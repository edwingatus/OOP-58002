{
  "nbformat": 4,
  "nbformat_minor": 0,
  "metadata": {
    "colab": {
      "provenance": [],
      "authorship_tag": "ABX9TyNcwXLT1TPGY9VX6tAs2Df3",
      "include_colab_link": true
    },
    "kernelspec": {
      "name": "python3",
      "display_name": "Python 3"
    },
    "language_info": {
      "name": "python"
    }
  },
  "cells": [
    {
      "cell_type": "markdown",
      "metadata": {
        "id": "view-in-github",
        "colab_type": "text"
      },
      "source": [
        "<a href=\"https://colab.research.google.com/github/edwingatus/OOP-58002/blob/main/Lab_Activity_2.ipynb\" target=\"_parent\"><img src=\"https://colab.research.google.com/assets/colab-badge.svg\" alt=\"Open In Colab\"/></a>"
      ]
    },
    {
      "cell_type": "code",
      "execution_count": 1,
      "metadata": {
        "colab": {
          "base_uri": "https://localhost:8080/"
        },
        "id": "mpSYmbcZWU3F",
        "outputId": "c536fbba-7561-49f4-e13a-6954cc88e288"
      },
      "outputs": [
        {
          "output_type": "stream",
          "name": "stdout",
          "text": [
            "Enter the radius of the circle: 5\n",
            "Perimeter: 31.4159\n",
            "Area: 78.53975\n"
          ]
        }
      ],
      "source": [
        "class Circle:\n",
        "    def __init__(self, radius):\n",
        "        self.radius = radius\n",
        "        self.pi = 3.14159\n",
        "\n",
        "    def Perimeter(self):\n",
        "        return 2 * self.pi * self.radius\n",
        "\n",
        "    def Area(self):\n",
        "        return self.pi * self.radius ** 2\n",
        "\n",
        "    def Display(self):\n",
        "        print(\"Perimeter:\", self.Perimeter())\n",
        "        print(\"Area:\", self.Area())\n",
        "\n",
        "radius = float(input(\"Enter the radius of the circle: \"))\n",
        "c = Circle(radius)\n",
        "c.Display()"
      ]
    }
  ]
}