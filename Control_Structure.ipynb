{
  "nbformat": 4,
  "nbformat_minor": 0,
  "metadata": {
    "colab": {
      "provenance": [],
      "authorship_tag": "ABX9TyOXB4ezkwihGamtmaQuzHER",
      "include_colab_link": true
    },
    "kernelspec": {
      "name": "python3",
      "display_name": "Python 3"
    },
    "language_info": {
      "name": "python"
    }
  },
  "cells": [
    {
      "cell_type": "markdown",
      "metadata": {
        "id": "view-in-github",
        "colab_type": "text"
      },
      "source": [
        "<a href=\"https://colab.research.google.com/github/edwingatus/OOP-58002/blob/main/Control_Structure.ipynb\" target=\"_parent\"><img src=\"https://colab.research.google.com/assets/colab-badge.svg\" alt=\"Open In Colab\"/></a>"
      ]
    },
    {
      "cell_type": "code",
      "execution_count": null,
      "metadata": {
        "id": "vcFuEOOkk14r"
      },
      "outputs": [],
      "source": [
        "#if Statement \n",
        "a= 50\n",
        "b= 50\n",
        "if a>b:\n",
        "  print(\"a is greater than b\")"
      ]
    },
    {
      "cell_type": "code",
      "source": [],
      "metadata": {
        "id": "n9nJyWUe3DoK"
      },
      "execution_count": null,
      "outputs": []
    },
    {
      "cell_type": "code",
      "source": [
        "#Else if Statement\n",
        "if a>b:\n",
        "  print(\"a is greater than b\")\n",
        "else:\n",
        "  print(\"a is less than b\")"
      ],
      "metadata": {
        "colab": {
          "base_uri": "https://localhost:8080/"
        },
        "id": "mb6NNeYclVtl",
        "outputId": "6803d238-2003-4319-c846-5b9cc9419d6a"
      },
      "execution_count": null,
      "outputs": [
        {
          "output_type": "stream",
          "name": "stdout",
          "text": [
            "a is less than b\n"
          ]
        }
      ]
    },
    {
      "cell_type": "code",
      "source": [
        "#Else if Statement\n",
        "if a>b:\n",
        " print(\"a is greater than b\")\n",
        "else:\n",
        "  print(\"a is equal to b\")"
      ],
      "metadata": {
        "colab": {
          "base_uri": "https://localhost:8080/"
        },
        "id": "AH_-zS_EmHr2",
        "outputId": "d9a5e8cc-4095-427b-c1d1-c7b5083d7f03"
      },
      "execution_count": null,
      "outputs": [
        {
          "output_type": "stream",
          "name": "stdout",
          "text": [
            "a is equal to b\n"
          ]
        }
      ]
    },
    {
      "cell_type": "markdown",
      "source": [
        "Short, Hand if...."
      ],
      "metadata": {
        "id": "wTZM2CshrBYF"
      }
    },
    {
      "cell_type": "code",
      "source": [
        "if a==b: print(\"a is equal to b\")"
      ],
      "metadata": {
        "colab": {
          "base_uri": "https://localhost:8080/"
        },
        "id": "H0sNJ3nKo2Hu",
        "outputId": "d5a2a6b6-a0e8-4d4a-e2fd-9eddbbb2f4ba"
      },
      "execution_count": null,
      "outputs": [
        {
          "output_type": "stream",
          "name": "stdout",
          "text": [
            "a is equal to b\n"
          ]
        }
      ]
    },
    {
      "cell_type": "code",
      "source": [
        "print(\"a is greater than b\")if a>b else print"
      ],
      "metadata": {
        "id": "mSWZsyPap0UM"
      },
      "execution_count": null,
      "outputs": []
    },
    {
      "cell_type": "markdown",
      "source": [
        "nested if Statement"
      ],
      "metadata": {
        "id": "PtuH2kVIrHVE"
      }
    },
    {
      "cell_type": "code",
      "source": [
        "x = 41\n",
        "if x>10:\n",
        "  print(\"above 10\")\n",
        "  if x>20:\n",
        "   print(\"above 20\")\n",
        "    else:\n",
        "    print(\"below 30\")\n",
        "   if x>30:\n",
        "    print(\"below 30\")\n",
        "  else:\n",
        "      print(\"below 30\")\n",
        "else:\n",
        "   print(\"below 10\")"
      ],
      "metadata": {
        "id": "vy7b-4kYrJ8F"
      },
      "execution_count": null,
      "outputs": []
    },
    {
      "cell_type": "markdown",
      "source": [
        "Example 1"
      ],
      "metadata": {
        "id": "zvzgrz7Kwg7w"
      }
    },
    {
      "cell_type": "code",
      "source": [
        "1 age = int(input(\"input your age\"))\n",
        "\n",
        "if a>=18:\n",
        "  print(\"you can vote\")\n",
        "\n",
        "  else :\n",
        "    print(\"You're not allowed to vote\")"
      ],
      "metadata": {
        "id": "aE0g9aUuwmCv"
      },
      "execution_count": null,
      "outputs": []
    },
    {
      "cell_type": "markdown",
      "source": [
        "Example 2"
      ],
      "metadata": {
        "id": "hfRBujd43NsZ"
      }
    },
    {
      "cell_type": "code",
      "source": [
        "a= int(input(\"Enter Number:\"))\n",
        "\n",
        "if a>1:\n",
        "  print(\"POSITIVE\")\n",
        "  elif a==0:\n",
        "    print(\"ZERO\")\n",
        "    else:\n",
        "      print(\"NEGATIVE\")\n",
        "      "
      ],
      "metadata": {
        "id": "DcxjNFZL3QMh"
      },
      "execution_count": null,
      "outputs": []
    },
    {
      "cell_type": "markdown",
      "source": [
        "Example 3"
      ],
      "metadata": {
        "id": "to4ElbpX4BVi"
      }
    },
    {
      "cell_type": "code",
      "source": [
        "g = int(input(\"Emter Grade\"))\n",
        "\n",
        "if g> 70\n",
        "print(\"passed\")\n",
        "elif g> 65:\n",
        "  print(\"remedial\")\n",
        "  elif g< 64:\n",
        "    print(\"failed\")\n",
        "    else:\n",
        "      print(\"note if grades is a negative number,it will not be accepted\")"
      ],
      "metadata": {
        "id": "vjgKkHGp4D0p"
      },
      "execution_count": null,
      "outputs": []
    }
  ]
}