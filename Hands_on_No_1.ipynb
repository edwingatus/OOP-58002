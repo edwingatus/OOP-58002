{
  "nbformat": 4,
  "nbformat_minor": 0,
  "metadata": {
    "colab": {
      "provenance": [],
      "authorship_tag": "ABX9TyNlUEAlGxXQQzRj+bqRc/cc",
      "include_colab_link": true
    },
    "kernelspec": {
      "name": "python3",
      "display_name": "Python 3"
    },
    "language_info": {
      "name": "python"
    }
  },
  "cells": [
    {
      "cell_type": "markdown",
      "metadata": {
        "id": "view-in-github",
        "colab_type": "text"
      },
      "source": [
        "<a href=\"https://colab.research.google.com/github/edwingatus/OOP-58002/blob/main/Hands_on_No_1.ipynb\" target=\"_parent\"><img src=\"https://colab.research.google.com/assets/colab-badge.svg\" alt=\"Open In Colab\"/></a>"
      ]
    },
    {
      "cell_type": "markdown",
      "source": [
        "Hands-on No.1"
      ],
      "metadata": {
        "id": "_PIOjUKN-Qhe"
      }
    },
    {
      "cell_type": "markdown",
      "source": [
        "1. Create a python program that display the name of three students(Student 1, Student 2, and Student 3) and the term grades\n",
        "2. Create a class name Person and attributes - std1, std2, std3, prelims,midterms,finals\n",
        "3. Create the average of each term grade using Grade() method\n",
        "4. Information about student's grades must be hidden from others"
      ],
      "metadata": {
        "id": "85ww8FlH_YwD"
      }
    },
    {
      "cell_type": "code",
      "source": [
        "class Student:\n",
        "    def __init__(self, name, grades):\n",
        "        self.__name = name\n",
        "        self.__grades = grades\n",
        "\n",
        "    def calculate_avg_grade(self):\n",
        "        avg_grade = sum(self.__grades) / len(self.__grades)\n",
        "        return avg_grade\n",
        "\n",
        "student1 = Student(\"Student 1: Allen Anday\", [90, 85, 85])\n",
        "student2 = Student(\"Student 2: Dafthine Santos\", [95, 99, 95])\n",
        "student3 = Student(\"Student 3: Edwin Gatus Jr\", [95, 85, 85])\n",
        "\n",
        "print(\"Names of the Students:\")\n",
        "print(student1._Student__name)\n",
        "print(student2._Student__name)\n",
        "print(student3._Student__name)\n",
        "\n",
        "print(\"\\nAverage Grades:\")\n",
        "print(\"Student 1: Allen Anday's average grade is\", student1.calculate_avg_grade())\n",
        "print(\"Student 2: Dafthine Santos's average grade is\", student2.calculate_avg_grade())\n",
        "print(\"Student 3: Edwin Gatus Jr's average grade is\", student3.calculate_avg_grade())\n"
      ],
      "metadata": {
        "colab": {
          "base_uri": "https://localhost:8080/"
        },
        "id": "PMLoBr5wCNp6",
        "outputId": "4b5a1858-bbac-41a0-a2bc-6040e7a5c5a2"
      },
      "execution_count": 43,
      "outputs": [
        {
          "output_type": "stream",
          "name": "stdout",
          "text": [
            "Names of the Students:\n",
            "Student 1: Allen Anday\n",
            "Student 2: Dafthine Santos\n",
            "Student 3: Edwin Gatus Jr\n",
            "\n",
            "Average Grades:\n",
            "Student 1: Allen Anday's average grade is 86.66666666666667\n",
            "Student 2: Dafthine Santos's average grade is 96.33333333333333\n",
            "Student 3: Edwin Gatus Jr's average grade is 88.33333333333333\n"
          ]
        }
      ]
    }
  ]
}