{
  "nbformat": 4,
  "nbformat_minor": 0,
  "metadata": {
    "colab": {
      "provenance": [],
      "authorship_tag": "ABX9TyMcHoLvJ+EoC20AoptE+ZqP",
      "include_colab_link": true
    },
    "kernelspec": {
      "name": "python3",
      "display_name": "Python 3"
    },
    "language_info": {
      "name": "python"
    }
  },
  "cells": [
    {
      "cell_type": "markdown",
      "metadata": {
        "id": "view-in-github",
        "colab_type": "text"
      },
      "source": [
        "<a href=\"https://colab.research.google.com/github/edwingatus/OOP-58002/blob/main/OOP_Concepts_2.ipynb\" target=\"_parent\"><img src=\"https://colab.research.google.com/assets/colab-badge.svg\" alt=\"Open In Colab\"/></a>"
      ]
    },
    {
      "cell_type": "code",
      "execution_count": 8,
      "metadata": {
        "colab": {
          "base_uri": "https://localhost:8080/"
        },
        "id": "yGz-Squb6TIl",
        "outputId": "0bfddcae-f393-4b01-8c1d-753e84cdf91c"
      },
      "outputs": [
        {
          "output_type": "execute_result",
          "data": {
            "text/plain": [
              "7"
            ]
          },
          "metadata": {},
          "execution_count": 8
        }
      ],
      "source": [
        "class foo:\n",
        " def __init__(self,a,b):\n",
        "  self.a = a\n",
        "  self.b = b\n",
        " def add(self):\n",
        "  return self.a + self.b\n",
        "foo_object = foo(3,4)\n",
        "foo_object.add()"
      ]
    },
    {
      "cell_type": "code",
      "source": [
        "#Class with multiple objects\n",
        "\n",
        "class birds:\n",
        "  def __init__(self,name_birds):\n",
        "    self.name_birds = name_birds\n",
        "  def flying_birds(self):\n",
        "    print(f\"The {self.name_birds} is the flying bird above the sky\")\n",
        "  def non_flying_birds(self):\n",
        "    print(f\"The {self.name_birds} is the non flying bird\")\n",
        "  \n",
        "eagle = birds(\"Eagle\")\n",
        "chicken = birds(\"Chicken\")\n",
        "eagle.flying_birds()\n",
        "chicken.non_flying_birds()"
      ],
      "metadata": {
        "colab": {
          "base_uri": "https://localhost:8080/"
        },
        "id": "YNUhNCGDAXzl",
        "outputId": "e7b601d6-2cc7-4db9-e742-2ce29858f073"
      },
      "execution_count": 10,
      "outputs": [
        {
          "output_type": "stream",
          "name": "stdout",
          "text": [
            "The Eagle is the flying bird above the sky\n",
            "The Chicken is the non flying bird\n"
          ]
        }
      ]
    },
    {
      "cell_type": "code",
      "source": [
        "#Encapsulation\n",
        "\n",
        "class foo:\n",
        "  def __init__(self,a,b):\n",
        "    self.__a = a\n",
        "    self.__b = b\n",
        "  def add(self):\n",
        "    return self.__a + self.__b\n",
        "\n",
        "foo_object = foo(3,4)\n",
        "foo_object.add()\n",
        "foo_object.a = 7\n",
        "foo_object.b = 6\n",
        "foo_object.add()"
      ],
      "metadata": {
        "colab": {
          "base_uri": "https://localhost:8080/"
        },
        "id": "JpA_V1yF9fTS",
        "outputId": "d14aaa8f-6a58-466d-ae14-4d8bb51cc069"
      },
      "execution_count": 11,
      "outputs": [
        {
          "output_type": "execute_result",
          "data": {
            "text/plain": [
              "7"
            ]
          },
          "metadata": {},
          "execution_count": 11
        }
      ]
    },
    {
      "cell_type": "code",
      "source": [
        "#Inheritance\n",
        "class Person:\n",
        "  def __init__(self,name,birthdate):\n",
        "    self.name = name\n",
        "    self.birthdate = birthdate\n",
        "  def display(self):\n",
        "    print(\"My name is\",self.name)\n",
        "    print(\"My birthday is\",self.birthdate)\n",
        "class Student(Person):\n",
        "  pass\n",
        "person = Person(\"Edwin\",\"August 17, 2003\")\n",
        "person.display()\n",
        "\n",
        "student = Person(\"Edwin\", \"August 17, 2003\")\n",
        "student.display()\n"
      ],
      "metadata": {
        "colab": {
          "base_uri": "https://localhost:8080/"
        },
        "id": "kN6aDuEkAvYO",
        "outputId": "c08bc4c7-9096-4a88-ee4f-7f8aebf3f781"
      },
      "execution_count": 16,
      "outputs": [
        {
          "output_type": "stream",
          "name": "stdout",
          "text": [
            "My name is Edwin\n",
            "My birthday is August 17, 2003\n",
            "My name is Edwin\n",
            "My birthday is August 17, 2003\n"
          ]
        }
      ]
    },
    {
      "cell_type": "code",
      "source": [
        "class Shapes:\n",
        "    def __init__(self, sides, name):\n",
        "        self.__sides = sides\n",
        "        self.__name = name\n",
        "\n",
        "    def __display_sides(self):\n",
        "        print(f\"{self.__name} has {len(self.__sides)} sides\")\n",
        "\n",
        "class Triangle(Shapes):\n",
        "    def __init__(self, sides):\n",
        "        super().__init__(sides, \"Triangle\")\n",
        "\n",
        "    def display_sides(self):\n",
        "        self._Shapes__display_sides()\n",
        "\n",
        "class Rectangle(Shapes):\n",
        "    def __init__(self, sides):\n",
        "        super().__init__(sides, \"Rectangle\")\n",
        "\n",
        "    def display_sides(self):\n",
        "        self._Shapes__display_sides()\n",
        "\n",
        "class Pentagon(Shapes):\n",
        "    def __init__(self, sides):\n",
        "        super().__init__(sides, \"Pentagon\")\n",
        "\n",
        "    def display_sides(self):\n",
        "        self._Shapes__display_sides()\n",
        "\n",
        "class Hexagon(Shapes):\n",
        "    def __init__(self, sides):\n",
        "        super().__init__(sides, \"Hexagon\")\n",
        "\n",
        "    def display_sides(self):\n",
        "        self._Shapes__display_sides()\n",
        "\n",
        "class Heptagon(Shapes):\n",
        "    def __init__(self, sides):\n",
        "        super().__init__(sides, \"Heptagon\")\n",
        "\n",
        "    def display_sides(self):\n",
        "        self._Shapes__display_sides()\n",
        "\n",
        "\n",
        "triangle = Triangle([3, 4, 5])\n",
        "rectangle = Rectangle([4, 4, 4, 4])\n",
        "pentagon = Pentagon([5, 5, 5, 5, 5])\n",
        "hexagon = Hexagon([6, 6, 6, 6, 6, 6])\n",
        "heptagon = Heptagon([7, 7, 7, 7, 7])\n",
        "\n",
        "triangle.display_sides()    # Triangle has 3 sides\n",
        "rectangle.display_sides()   # Rectangle has 4 sides\n",
        "pentagon.display_sides()    # Pentagon has 5 sides\n",
        "hexagon.display_sides()     # Hexagon has 6 sides\n",
        "heptagon.display_sides()    # Heptagon has 7 sides\n",
        "\n",
        "\n",
        "\n",
        "\n"
      ],
      "metadata": {
        "colab": {
          "base_uri": "https://localhost:8080/"
        },
        "id": "6wSSKraoGJW3",
        "outputId": "95cc41e8-e34a-450e-a627-7757dc1965c5"
      },
      "execution_count": 22,
      "outputs": [
        {
          "output_type": "stream",
          "name": "stdout",
          "text": [
            "Triangle has 3 sides\n",
            "Rectangle has 4 sides\n",
            "Pentagon has 5 sides\n",
            "Hexagon has 6 sides\n",
            "Heptagon has 5 sides\n"
          ]
        }
      ]
    }
  ]
}