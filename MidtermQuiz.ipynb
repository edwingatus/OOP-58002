{
  "nbformat": 4,
  "nbformat_minor": 0,
  "metadata": {
    "colab": {
      "provenance": [],
      "authorship_tag": "ABX9TyP2UwLP+CzxgGJLuvJPA/mu",
      "include_colab_link": true
    },
    "kernelspec": {
      "name": "python3",
      "display_name": "Python 3"
    },
    "language_info": {
      "name": "python"
    }
  },
  "cells": [
    {
      "cell_type": "markdown",
      "metadata": {
        "id": "view-in-github",
        "colab_type": "text"
      },
      "source": [
        "<a href=\"https://colab.research.google.com/github/edwingatus/OOP-58002/blob/main/MidtermQuiz.ipynb\" target=\"_parent\"><img src=\"https://colab.research.google.com/assets/colab-badge.svg\" alt=\"Open In Colab\"/></a>"
      ]
    },
    {
      "cell_type": "code",
      "execution_count": 1,
      "metadata": {
        "colab": {
          "base_uri": "https://localhost:8080/"
        },
        "id": "MrHw2PH7ShgI",
        "outputId": "d26fcf19-49b9-49a0-d1f3-f7020f7d8805"
      },
      "outputs": [
        {
          "output_type": "stream",
          "name": "stdout",
          "text": [
            "Enter a temperature in Fahrenheit: 17\n",
            "17.0°F is equal to -8.33°C\n",
            "17.0K is equal to -256.15°C\n",
            "17.0°C is equal to 62.6°F\n",
            "17.0K is equal to -429.07°F\n",
            "17.0°C is equal to 290.15K\n",
            "17.0°F is equal to 264.82K\n"
          ]
        }
      ],
      "source": [
        "class TempConversion:\n",
        "\n",
        "    def __init__(self, temp):\n",
        "        self.__temp = temp  # using mangling for encapsulation\n",
        "\n",
        "    def __f_to_c(self):\n",
        "        return round((self.__temp - 32) * 5 / 9, 2)\n",
        "\n",
        "    def __k_to_c(self):\n",
        "        return round((self.__temp - 273.15), 2)\n",
        "\n",
        "    def __c_to_f(self):\n",
        "        return round((self.__temp * 9 / 5) + 32, 2)\n",
        "\n",
        "    def __k_to_f(self):\n",
        "        return round((self.__temp * 1.8) - 459.67, 2)\n",
        "\n",
        "    def __c_to_k(self):\n",
        "        return round((self.__temp + 273.15), 2)\n",
        "\n",
        "    def __f_to_k(self):\n",
        "        return round((self.__temp + 459.67) / 1.8, 2)\n",
        "\n",
        "    def display_conversions(self):\n",
        "        print(f\"{self.__temp}°F is equal to {self.__f_to_c()}°C\")\n",
        "        print(f\"{self.__temp}K is equal to {self.__k_to_c()}°C\")\n",
        "        print(f\"{self.__temp}°C is equal to {self.__c_to_f()}°F\")\n",
        "        print(f\"{self.__temp}K is equal to {self.__k_to_f()}°F\")\n",
        "        print(f\"{self.__temp}°C is equal to {self.__c_to_k()}K\")\n",
        "        print(f\"{self.__temp}°F is equal to {self.__f_to_k()}K\")\n",
        "\n",
        "# Prompt the user for a temperature in Fahrenheit\n",
        "f_temp = float(input(\"Enter a temperature in Fahrenheit: \"))\n",
        "\n",
        "# Create a TempConversion object with the Fahrenheit temperature\n",
        "temp_conv = TempConversion(f_temp)\n",
        "\n",
        "# Display the temperature conversions\n",
        "temp_conv.display_conversions()\n"
      ]
    }
  ]
}