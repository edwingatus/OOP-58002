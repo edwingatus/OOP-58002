{
  "nbformat": 4,
  "nbformat_minor": 0,
  "metadata": {
    "colab": {
      "provenance": [],
      "authorship_tag": "ABX9TyMIFHxyxzzAKGYiW9c7l6Os",
      "include_colab_link": true
    },
    "kernelspec": {
      "name": "python3",
      "display_name": "Python 3"
    },
    "language_info": {
      "name": "python"
    }
  },
  "cells": [
    {
      "cell_type": "markdown",
      "metadata": {
        "id": "view-in-github",
        "colab_type": "text"
      },
      "source": [
        "<a href=\"https://colab.research.google.com/github/edwingatus/OOP-58002/blob/main/Midterm_Exam_Problem_2_.ipynb\" target=\"_parent\"><img src=\"https://colab.research.google.com/assets/colab-badge.svg\" alt=\"Open In Colab\"/></a>"
      ]
    },
    {
      "cell_type": "code",
      "execution_count": 3,
      "metadata": {
        "colab": {
          "base_uri": "https://localhost:8080/",
          "height": 356
        },
        "id": "Y-dOr-TvbnPe",
        "outputId": "9eb7e486-577f-4610-cc58-d014b6afc2c7"
      },
      "outputs": [
        {
          "output_type": "error",
          "ename": "TclError",
          "evalue": "ignored",
          "traceback": [
            "\u001b[0;31m---------------------------------------------------------------------------\u001b[0m",
            "\u001b[0;31mTclError\u001b[0m                                  Traceback (most recent call last)",
            "\u001b[0;32m<ipython-input-3-3f380503de6c>\u001b[0m in \u001b[0;36m<cell line: 57>\u001b[0;34m()\u001b[0m\n\u001b[1;32m     55\u001b[0m         \u001b[0mself\u001b[0m\u001b[0;34m.\u001b[0m\u001b[0mfullname_entry\u001b[0m\u001b[0;34m.\u001b[0m\u001b[0mdelete\u001b[0m\u001b[0;34m(\u001b[0m\u001b[0;36m0\u001b[0m\u001b[0;34m,\u001b[0m \u001b[0mtk\u001b[0m\u001b[0;34m.\u001b[0m\u001b[0mEND\u001b[0m\u001b[0;34m)\u001b[0m\u001b[0;34m\u001b[0m\u001b[0;34m\u001b[0m\u001b[0m\n\u001b[1;32m     56\u001b[0m \u001b[0;34m\u001b[0m\u001b[0m\n\u001b[0;32m---> 57\u001b[0;31m \u001b[0mroot\u001b[0m \u001b[0;34m=\u001b[0m \u001b[0mtk\u001b[0m\u001b[0;34m.\u001b[0m\u001b[0mTk\u001b[0m\u001b[0;34m(\u001b[0m\u001b[0;34m)\u001b[0m\u001b[0;34m\u001b[0m\u001b[0;34m\u001b[0m\u001b[0m\n\u001b[0m\u001b[1;32m     58\u001b[0m \u001b[0mapp\u001b[0m \u001b[0;34m=\u001b[0m \u001b[0mFullNameGUI\u001b[0m\u001b[0;34m(\u001b[0m\u001b[0mroot\u001b[0m\u001b[0;34m)\u001b[0m\u001b[0;34m\u001b[0m\u001b[0;34m\u001b[0m\u001b[0m\n\u001b[1;32m     59\u001b[0m \u001b[0mroot\u001b[0m\u001b[0;34m.\u001b[0m\u001b[0mmainloop\u001b[0m\u001b[0;34m(\u001b[0m\u001b[0;34m)\u001b[0m\u001b[0;34m\u001b[0m\u001b[0;34m\u001b[0m\u001b[0m\n",
            "\u001b[0;32m/usr/lib/python3.9/tkinter/__init__.py\u001b[0m in \u001b[0;36m__init__\u001b[0;34m(self, screenName, baseName, className, useTk, sync, use)\u001b[0m\n\u001b[1;32m   2268\u001b[0m                 \u001b[0mbaseName\u001b[0m \u001b[0;34m=\u001b[0m \u001b[0mbaseName\u001b[0m \u001b[0;34m+\u001b[0m \u001b[0mext\u001b[0m\u001b[0;34m\u001b[0m\u001b[0;34m\u001b[0m\u001b[0m\n\u001b[1;32m   2269\u001b[0m         \u001b[0minteractive\u001b[0m \u001b[0;34m=\u001b[0m \u001b[0;32mFalse\u001b[0m\u001b[0;34m\u001b[0m\u001b[0;34m\u001b[0m\u001b[0m\n\u001b[0;32m-> 2270\u001b[0;31m         \u001b[0mself\u001b[0m\u001b[0;34m.\u001b[0m\u001b[0mtk\u001b[0m \u001b[0;34m=\u001b[0m \u001b[0m_tkinter\u001b[0m\u001b[0;34m.\u001b[0m\u001b[0mcreate\u001b[0m\u001b[0;34m(\u001b[0m\u001b[0mscreenName\u001b[0m\u001b[0;34m,\u001b[0m \u001b[0mbaseName\u001b[0m\u001b[0;34m,\u001b[0m \u001b[0mclassName\u001b[0m\u001b[0;34m,\u001b[0m \u001b[0minteractive\u001b[0m\u001b[0;34m,\u001b[0m \u001b[0mwantobjects\u001b[0m\u001b[0;34m,\u001b[0m \u001b[0museTk\u001b[0m\u001b[0;34m,\u001b[0m \u001b[0msync\u001b[0m\u001b[0;34m,\u001b[0m \u001b[0muse\u001b[0m\u001b[0;34m)\u001b[0m\u001b[0;34m\u001b[0m\u001b[0;34m\u001b[0m\u001b[0m\n\u001b[0m\u001b[1;32m   2271\u001b[0m         \u001b[0;32mif\u001b[0m \u001b[0museTk\u001b[0m\u001b[0;34m:\u001b[0m\u001b[0;34m\u001b[0m\u001b[0;34m\u001b[0m\u001b[0m\n\u001b[1;32m   2272\u001b[0m             \u001b[0mself\u001b[0m\u001b[0;34m.\u001b[0m\u001b[0m_loadtk\u001b[0m\u001b[0;34m(\u001b[0m\u001b[0;34m)\u001b[0m\u001b[0;34m\u001b[0m\u001b[0;34m\u001b[0m\u001b[0m\n",
            "\u001b[0;31mTclError\u001b[0m: no display name and no $DISPLAY environment variable"
          ]
        }
      ],
      "source": [
        "import tkinter as tk\n",
        "\n",
        "class FullNameGUI:\n",
        "    def __init__(self, master):\n",
        "        self.master = master\n",
        "        master.title(\"My Full Name\")\n",
        "        master.geometry(\"400x200\")\n",
        "        master.configure(bg=\"#ffffff\")\n",
        "        master.resizable(False, False)\n",
        "        self.create_widgets()\n",
        "\n",
        "    def create_widgets(self):\n",
        "        # Create labels\n",
        "        self.given_label = tk.Label(self.master, text=\"Enter Given Name:\", font=(\"Verdana\", 10), fg=\"red\", bg=\"#ffffff\")\n",
        "        self.middle_label = tk.Label(self.master, text=\"Enter Middle Name:\", font=(\"Verdana\", 10), fg=\"red\", bg=\"#ffffff\")\n",
        "        self.last_label = tk.Label(self.master, text=\"Enter Last Name:\", font=(\"Verdana\", 10), fg=\"red\", bg=\"#ffffff\")\n",
        "        self.fullname_label = tk.Label(self.master, text=\"Enter My Full Name is:\", font=(\"Verdana\", 10), fg=\"red\", bg=\"#ffffff\")\n",
        "        \n",
        "        # Create entry widgets\n",
        "        self.given_entry = tk.Entry(self.master, font=(\"Verdana\", 10))\n",
        "        self.middle_entry = tk.Entry(self.master, font=(\"Verdana\", 10))\n",
        "        self.last_entry = tk.Entry(self.master, font=(\"Verdana\", 10))\n",
        "        self.fullname_entry = tk.Entry(self.master, font=(\"Verdana\", 10), fg=\"red\")\n",
        "        \n",
        "        # Create buttons\n",
        "        self.show_button = tk.Button(self.master, text=\"Show Full Name\", font=(\"Verdana\", 10), fg=\"red\", command=self.show_fullname)\n",
        "        self.clear_button = tk.Button(self.master, text=\"Clear All\", font=(\"Verdana\", 10), fg=\"red\", command=self.clear_entries)\n",
        "        \n",
        "        # Position the labels, entry widgets, and buttons using grid layout\n",
        "        self.given_label.grid(row=0, column=0, sticky=\"w\", padx=10, pady=10)\n",
        "        self.middle_label.grid(row=1, column=0, sticky=\"w\", padx=10, pady=10)\n",
        "        self.last_label.grid(row=2, column=0, sticky=\"w\", padx=10, pady=10)\n",
        "        self.fullname_label.grid(row=3, column=0, sticky=\"w\", padx=10, pady=10)\n",
        "        \n",
        "        self.given_entry.grid(row=0, column=1, padx=10, pady=10)\n",
        "        self.middle_entry.grid(row=1, column=1, padx=10, pady=10)\n",
        "        self.last_entry.grid(row=2, column=1, padx=10, pady=10)\n",
        "        self.fullname_entry.grid(row=3, column=1, padx=10, pady=10)\n",
        "        \n",
        "        self.show_button.grid(row=4, column=0, columnspan=2, pady=10)\n",
        "        self.clear_button.grid(row=5, column=0, columnspan=2, pady=10)\n",
        "        \n",
        "    def show_fullname(self):\n",
        "        given = self.given_entry.get()\n",
        "        middle = self.middle_entry.get()\n",
        "        last = self.last_entry.get()\n",
        "        fullname = last + \", \" + given + \" \" + middle\n",
        "        self.fullname_entry.delete(0, tk.END)\n",
        "        self.fullname_entry.insert(0, fullname)\n",
        "        \n",
        "    def clear_entries(self):\n",
        "        self.given_entry.delete(0, tk.END)\n",
        "        self.middle_entry.delete(0, tk.END)\n",
        "        self.last_entry.delete(0, tk.END)\n",
        "        self.fullname_entry.delete(0, tk.END)\n",
        "        \n",
        "root = tk.Tk()\n",
        "app = FullNameGUI(root)\n",
        "root.mainloop()\n"
      ]
    }
  ]
}