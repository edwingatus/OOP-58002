{
  "nbformat": 4,
  "nbformat_minor": 0,
  "metadata": {
    "colab": {
      "provenance": [],
      "authorship_tag": "ABX9TyNvlInOzJPdL/PfcCZYdWpe",
      "include_colab_link": true
    },
    "kernelspec": {
      "name": "python3",
      "display_name": "Python 3"
    },
    "language_info": {
      "name": "python"
    }
  },
  "cells": [
    {
      "cell_type": "markdown",
      "metadata": {
        "id": "view-in-github",
        "colab_type": "text"
      },
      "source": [
        "<a href=\"https://colab.research.google.com/github/edwingatus/OOP-58002/blob/main/Python_Fundamentals.ipynb\" target=\"_parent\"><img src=\"https://colab.research.google.com/assets/colab-badge.svg\" alt=\"Open In Colab\"/></a>"
      ]
    },
    {
      "cell_type": "code",
      "execution_count": 4,
      "metadata": {
        "colab": {
          "base_uri": "https://localhost:8080/"
        },
        "id": "5YG4ywb3wj83",
        "outputId": "6bda05f1-0727-4a07-88ee-81b1769947b0"
      },
      "outputs": [
        {
          "output_type": "stream",
          "name": "stdout",
          "text": [
            "5>2\n"
          ]
        }
      ],
      "source": [
        "if 5>2:\n",
        "  print(\"5>2\")"
      ]
    },
    {
      "cell_type": "markdown",
      "source": [
        "python identation\n"
      ],
      "metadata": {
        "id": "sSBm8lZcwvKG"
      }
    },
    {
      "cell_type": "code",
      "source": [
        "#This is a comment\n",
        "print(\"Hello, world\")"
      ],
      "metadata": {
        "colab": {
          "base_uri": "https://localhost:8080/"
        },
        "id": "mBVtT7EgyR3C",
        "outputId": "a5bb83b4-e0e4-468b-fba1-f6d4c15af7f7"
      },
      "execution_count": 5,
      "outputs": [
        {
          "output_type": "stream",
          "name": "stdout",
          "text": [
            "Hello, world\n"
          ]
        }
      ]
    },
    {
      "cell_type": "markdown",
      "source": [
        "Naming Variable\n"
      ],
      "metadata": {
        "id": "DbLmZ0MPyTKS"
      }
    },
    {
      "cell_type": "code",
      "source": [
        "#single variable with single value\n",
        "x = 1\n",
        "y = 2\n",
        "print(x)\n",
        "print(y)\n",
        "\n",
        "#multiple variable with single value \n",
        "\n",
        "a = b = c  = \"Edwin\"\n",
        "print(a)\n",
        "print(b)\n",
        "print(c)\n",
        " \n",
        " #multiple variable with multiple values\n",
        "\n",
        "e, f,g=1,2,3\n",
        "print(e)\n",
        "print(f)\n",
        "print(g)"
      ],
      "metadata": {
        "colab": {
          "base_uri": "https://localhost:8080/"
        },
        "id": "dFEavDgJym7K",
        "outputId": "4b9c9833-1952-4333-fece-342c45135769"
      },
      "execution_count": 17,
      "outputs": [
        {
          "output_type": "stream",
          "name": "stdout",
          "text": [
            "1\n",
            "2\n",
            "Edwin\n",
            "Edwin\n",
            "Edwin\n",
            "1\n",
            "2\n",
            "3\n"
          ]
        }
      ]
    },
    {
      "cell_type": "markdown",
      "source": [
        "Single or Double \n"
      ],
      "metadata": {
        "id": "4zjamhVV1BcE"
      }
    },
    {
      "cell_type": "code",
      "source": [
        "v = \"Sally\"\n",
        "u = 'Sally'\n",
        "print(u)\n",
        "print(v)\n",
        "\n",
        "\n",
        "\n"
      ],
      "metadata": {
        "colab": {
          "base_uri": "https://localhost:8080/"
        },
        "id": "PQzSZfLu1G4m",
        "outputId": "83cb9e9b-5717-4ed4-8363-9c7e59ed5b1b"
      },
      "execution_count": 21,
      "outputs": [
        {
          "output_type": "stream",
          "name": "stdout",
          "text": [
            "Sally\n",
            "Sally\n"
          ]
        }
      ]
    },
    {
      "cell_type": "markdown",
      "source": [
        "Casting\n"
      ],
      "metadata": {
        "id": "ZP2gzbi3106l"
      }
    },
    {
      "cell_type": "code",
      "source": [
        "p= float(5)\n",
        "p \n",
        "5.0"
      ],
      "metadata": {
        "colab": {
          "base_uri": "https://localhost:8080/"
        },
        "id": "ycpfPJgX12yO",
        "outputId": "a090af63-8203-4f81-8aa2-67b1319e774e"
      },
      "execution_count": 22,
      "outputs": [
        {
          "output_type": "execute_result",
          "data": {
            "text/plain": [
              "5.0"
            ]
          },
          "metadata": {},
          "execution_count": 22
        }
      ]
    },
    {
      "cell_type": "markdown",
      "source": [
        "Type() function\n",
        "\n"
      ],
      "metadata": {
        "id": "89yyNQZL2EPF"
      }
    },
    {
      "cell_type": "code",
      "source": [
        "f = \"Ana\"\n",
        "g = 4.56\n",
        "\n",
        "print(type(f))\n",
        "print(type(g))\n",
        "\n"
      ],
      "metadata": {
        "colab": {
          "base_uri": "https://localhost:8080/"
        },
        "id": "gSeWzpTV2L4u",
        "outputId": "94ee60dd-8f11-465e-b489-c73e8a62b6fa"
      },
      "execution_count": 35,
      "outputs": [
        {
          "output_type": "stream",
          "name": "stdout",
          "text": [
            "<class 'str'>\n",
            "<class 'float'>\n"
          ]
        }
      ]
    },
    {
      "cell_type": "markdown",
      "source": [
        "Concantenation using +symbol"
      ],
      "metadata": {
        "id": "gFwY6Tj54GBi"
      }
    },
    {
      "cell_type": "code",
      "source": [
        "k= \"enjoying\"\n",
        "j= \"Python programming is\"\n",
        "print(j+k)"
      ],
      "metadata": {
        "colab": {
          "base_uri": "https://localhost:8080/"
        },
        "id": "eoPFFyqq4HHq",
        "outputId": "0ef43d09-3481-4865-eb78-846a89537b7e"
      },
      "execution_count": 36,
      "outputs": [
        {
          "output_type": "stream",
          "name": "stdout",
          "text": [
            "Python programming isenjoying\n"
          ]
        }
      ]
    }
  ]
}