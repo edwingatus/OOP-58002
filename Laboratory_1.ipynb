{
  "nbformat": 4,
  "nbformat_minor": 0,
  "metadata": {
    "colab": {
      "provenance": [],
      "authorship_tag": "ABX9TyOqcqa2SnO0v5GUWN1snCTP",
      "include_colab_link": true
    },
    "kernelspec": {
      "name": "python3",
      "display_name": "Python 3"
    },
    "language_info": {
      "name": "python"
    }
  },
  "cells": [
    {
      "cell_type": "markdown",
      "metadata": {
        "id": "view-in-github",
        "colab_type": "text"
      },
      "source": [
        "<a href=\"https://colab.research.google.com/github/edwingatus/OOP-58002/blob/main/Laboratory_1.ipynb\" target=\"_parent\"><img src=\"https://colab.research.google.com/assets/colab-badge.svg\" alt=\"Open In Colab\"/></a>"
      ]
    },
    {
      "cell_type": "code",
      "execution_count": 1,
      "metadata": {
        "colab": {
          "base_uri": "https://localhost:8080/"
        },
        "id": "ZokzT5ZwoDCI",
        "outputId": "b9d80bb8-ce79-488b-f4d4-0ef4f761ebec"
      },
      "outputs": [
        {
          "output_type": "stream",
          "name": "stdout",
          "text": [
            "Total numbers: 21\n",
            "Sum: 210\n",
            "Average: 10.0\n"
          ]
        }
      ],
      "source": [
        "n = 20\n",
        "total_numbers = 0\n",
        "total_sum = 0\n",
        "\n",
        "while n >= 0:\n",
        "    total_sum += n\n",
        "    total_numbers += 1\n",
        "    n -= 1\n",
        "\n",
        "if n < 0:\n",
        "    average = total_sum / total_numbers\n",
        "    print(f\"Total numbers: {total_numbers}\")\n",
        "    print(f\"Sum: {total_sum}\")\n",
        "    print(f\"Average: {average}\")"
      ]
    }
  ]
}