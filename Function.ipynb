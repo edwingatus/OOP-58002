{
  "nbformat": 4,
  "nbformat_minor": 0,
  "metadata": {
    "colab": {
      "provenance": [],
      "authorship_tag": "ABX9TyOh9zJ2tiewi+zIxl33snB2",
      "include_colab_link": true
    },
    "kernelspec": {
      "name": "python3",
      "display_name": "Python 3"
    },
    "language_info": {
      "name": "python"
    }
  },
  "cells": [
    {
      "cell_type": "markdown",
      "metadata": {
        "id": "view-in-github",
        "colab_type": "text"
      },
      "source": [
        "<a href=\"https://colab.research.google.com/github/edwingatus/OOP-58002/blob/main/Function.ipynb\" target=\"_parent\"><img src=\"https://colab.research.google.com/assets/colab-badge.svg\" alt=\"Open In Colab\"/></a>"
      ]
    },
    {
      "cell_type": "code",
      "execution_count": 14,
      "metadata": {
        "colab": {
          "base_uri": "https://localhost:8080/"
        },
        "id": "Pg0zmRF4zbr1",
        "outputId": "336c039d-16a4-41a7-a949-7e821752f090"
      },
      "outputs": [
        {
          "output_type": "execute_result",
          "data": {
            "text/plain": [
              "50"
            ]
          },
          "metadata": {},
          "execution_count": 14
        }
      ],
      "source": [
        "class Shape:\n",
        "  def __init__(self, length, width):\n",
        "   self.length = length\n",
        "   self.width = width\n",
        "\n",
        "  def area_rec(self):\n",
        "   return self. length * self.width\n",
        "  #def area_sqr(self,side):\n",
        "   #return self.side * self.side\n",
        "\n",
        "rectangle = Shape(10,5)\n",
        "rectangle.area_rec()\n"
      ]
    },
    {
      "cell_type": "markdown",
      "source": [
        "Create a function that will display your full name and name your class as Person"
      ],
      "metadata": {
        "id": "_wR-hSjY6775"
      }
    },
    {
      "cell_type": "code",
      "source": [
        "def name():\n",
        "  return \"Edwin E. Gatus Jr.\"\n",
        "\n",
        "def classroom():\n",
        "  return \"CPE\"\n",
        "print(\" My name is \" + name() + \"and my Class is \" + classroom())"
      ],
      "metadata": {
        "colab": {
          "base_uri": "https://localhost:8080/"
        },
        "id": "YF3EPRhx6tYI",
        "outputId": "d65e0cc0-2e7d-48c9-b3d3-70c5ca45b208"
      },
      "execution_count": 26,
      "outputs": [
        {
          "output_type": "stream",
          "name": "stdout",
          "text": [
            " My name is Edwin E. Gatus Jr.and my Class is CPE\n"
          ]
        }
      ]
    }
  ]
}