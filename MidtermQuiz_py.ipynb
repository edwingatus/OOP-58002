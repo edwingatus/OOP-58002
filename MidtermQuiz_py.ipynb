{
  "nbformat": 4,
  "nbformat_minor": 0,
  "metadata": {
    "colab": {
      "provenance": [],
      "authorship_tag": "ABX9TyPq0qhgTjkxkWygpTwVMqoJ",
      "include_colab_link": true
    },
    "kernelspec": {
      "name": "python3",
      "display_name": "Python 3"
    },
    "language_info": {
      "name": "python"
    }
  },
  "cells": [
    {
      "cell_type": "markdown",
      "metadata": {
        "id": "view-in-github",
        "colab_type": "text"
      },
      "source": [
        "<a href=\"https://colab.research.google.com/github/edwingatus/OOP-58002/blob/main/MidtermQuiz_py.ipynb\" target=\"_parent\"><img src=\"https://colab.research.google.com/assets/colab-badge.svg\" alt=\"Open In Colab\"/></a>"
      ]
    },
    {
      "cell_type": "code",
      "execution_count": 4,
      "metadata": {
        "id": "KBQ3mkY4_5LA",
        "colab": {
          "base_uri": "https://localhost:8080/"
        },
        "outputId": "2c395ff4-cb78-4a5b-9800-f5088b3988de"
      },
      "outputs": [
        {
          "output_type": "stream",
          "name": "stdout",
          "text": [
            "Enter the temperature in Celsius: 17.28\n",
            "63.104 Fahrenheit\n",
            "-8.177777777777777 Celsius\n"
          ]
        }
      ],
      "source": [
        "class TemperatureConversion:\n",
        "    def __init__(self, temp):\n",
        "        self.__temp = temp\n",
        "\n",
        "    def CelsiusToFahrenheit(self):\n",
        "        print((self.__temp * 9/5) + 32, \"Fahrenheit\")\n",
        "\n",
        "    def FahrenheitToCelsius(self):\n",
        "        print((self.__temp - 32) * 5/9, \"Celsius\")\n",
        "\n",
        "tempInCelsius = TemperatureConversion(float(input(\"Enter the temperature in Celsius: \")))\n",
        "tempInCelsius.CelsiusToFahrenheit()\n",
        "tempInCelsius.FahrenheitToCelsius()\n",
        "\n"
      ]
    }
  ]
}